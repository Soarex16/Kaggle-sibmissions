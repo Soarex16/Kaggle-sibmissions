{
  "nbformat": 4,
  "nbformat_minor": 0,
  "metadata": {
    "colab": {
      "name": "Fashion CNN.ipynb",
      "version": "0.3.2",
      "provenance": [],
      "include_colab_link": true
    },
    "kernelspec": {
      "name": "python3",
      "display_name": "Python 3"
    },
    "accelerator": "GPU"
  },
  "cells": [
    {
      "cell_type": "markdown",
      "metadata": {
        "id": "view-in-github",
        "colab_type": "text"
      },
      "source": [
        "<a href=\"https://colab.research.google.com/github/Soarex16/Kaggle-submissions/blob/master/Fashion_CNN.ipynb\" target=\"_parent\"><img src=\"https://colab.research.google.com/assets/colab-badge.svg\" alt=\"Open In Colab\"/></a>"
      ]
    },
    {
      "metadata": {
        "_cell_guid": "b1076dfc-b9ad-4769-8c92-a6c4dae69d19",
        "_uuid": "8f2839f25d086af736a60e9eeb907d3b93b6e0e5",
        "id": "Ty6d6FyAAQWS",
        "colab_type": "code",
        "colab": {}
      },
      "cell_type": "code",
      "source": [
        "import numpy as np\n",
        "import pandas as pd\n",
        "\n",
        "import copy\n",
        "\n",
        "import torch\n",
        "from torch.utils.data import DataLoader, Dataset\n",
        "import torchvision\n",
        "from torchvision import transforms\n",
        "\n",
        "import matplotlib.pyplot as plt"
      ],
      "execution_count": 0,
      "outputs": []
    },
    {
      "metadata": {
        "id": "to5Xel4xAQWV",
        "colab_type": "code",
        "colab": {}
      },
      "cell_type": "code",
      "source": [
        "TRAIN_PATH = '/content/fashion-mnist_train.csv'\n",
        "TEST_PATH = '/content/fashion-mnist_test.csv'"
      ],
      "execution_count": 0,
      "outputs": []
    },
    {
      "metadata": {
        "id": "OLmHtQNuAQWX",
        "colab_type": "code",
        "colab": {}
      },
      "cell_type": "code",
      "source": [
        "df_train = pd.read_csv(TRAIN_PATH)\n",
        "df_test = pd.read_csv(TEST_PATH)"
      ],
      "execution_count": 0,
      "outputs": []
    },
    {
      "metadata": {
        "id": "y3oStdnZAQWZ",
        "colab_type": "code",
        "colab": {}
      },
      "cell_type": "code",
      "source": [
        "# Prepare train data\n",
        "x_train = np.array(df_train.iloc[:, 1:]).reshape(-1, 1, 28, 28).astype(float)\n",
        "y_train = np.array(df_train.iloc[:, 0])"
      ],
      "execution_count": 0,
      "outputs": []
    },
    {
      "metadata": {
        "id": "CzW8RXpVAQWb",
        "colab_type": "code",
        "colab": {}
      },
      "cell_type": "code",
      "source": [
        "# And test data\n",
        "x_test = np.array(df_test).reshape(-1, 1, 28, 28).astype(float)\n",
        "y_test = np.array(df_test.iloc[:, 0])"
      ],
      "execution_count": 0,
      "outputs": []
    },
    {
      "metadata": {
        "id": "QXPzrvZGAQWd",
        "colab_type": "code",
        "colab": {}
      },
      "cell_type": "code",
      "source": [
        "class FashionMNISTDataset(Dataset):\n",
        "    '''Fashion MNIST Dataset'''\n",
        "    def __init__(self, csv_file, train=True, transform=None):\n",
        "        \"\"\"\n",
        "        Args:\n",
        "            csv_file (string): Path to the csv file\n",
        "            transform (callable): Optional transform to apply to sample\n",
        "        \"\"\"\n",
        "        \n",
        "        data = pd.read_csv(csv_file)\n",
        "        \n",
        "        self.X = np.array(data.iloc[:, 1:] if train else data).reshape(-1, 1, 28, 28).astype(float)\n",
        "        self.Y = np.array(data.iloc[:, 0])\n",
        "        \n",
        "        del data;\n",
        "        self.transform = transform\n",
        "        \n",
        "    def __len__(self):\n",
        "        return len(self.X)\n",
        "    \n",
        "    def __getitem__(self, idx):\n",
        "        item = self.X[idx]\n",
        "        label = self.Y[idx]\n",
        "        \n",
        "        if self.transform:\n",
        "            item = self.transform(item)\n",
        "        \n",
        "        return (item, label)"
      ],
      "execution_count": 0,
      "outputs": []
    },
    {
      "metadata": {
        "id": "fAbKZ9hSAQWf",
        "colab_type": "code",
        "colab": {}
      },
      "cell_type": "code",
      "source": [
        "train_dataset = FashionMNISTDataset(csv_file=TRAIN_PATH)\n",
        "test_dataset = FashionMNISTDataset(csv_file=TEST_PATH, train=False)"
      ],
      "execution_count": 0,
      "outputs": []
    },
    {
      "metadata": {
        "id": "FH00I8xNAQWh",
        "colab_type": "code",
        "colab": {
          "base_uri": "https://localhost:8080/",
          "height": 498
        },
        "outputId": "0de72a9e-0963-4cc3-b42a-1a4db7c471d8"
      },
      "cell_type": "code",
      "source": [
        "labels_map = {0 : 'T-Shirt', 1 : 'Trouser', 2 : 'Pullover', \n",
        "              3 : 'Dress', 4 : 'Coat', 5 : 'Sandal', 6 : 'Shirt',\n",
        "              7 : 'Sneaker', 8 : 'Bag', 9 : 'Ankle Boot'}\n",
        "\n",
        "fig = plt.figure(figsize=(8,8))\n",
        "columns = 4\n",
        "rows = 5\n",
        "\n",
        "for i in range(1, columns*rows +1):\n",
        "    img_xy = np.random.randint(len(train_dataset));\n",
        "    img = train_dataset[img_xy][0][0,:,:]\n",
        "    \n",
        "    fig.add_subplot(rows, columns, i)\n",
        "    \n",
        "    plt.title(labels_map[train_dataset[img_xy][1]])\n",
        "    plt.axis('off')\n",
        "    plt.imshow(img, cmap='gray')\n",
        "plt.show()"
      ],
      "execution_count": 51,
      "outputs": [
        {
          "output_type": "display_data",
          "data": {
            "image/png": "[encoded data removed]",
            "text/plain": [
              "<Figure size 576x576 with 20 Axes>"
            ]
          },
          "metadata": {
            "tags": []
          }
        }
      ]
    },
    {
      "metadata": {
        "id": "4wRVEaLMAQWm",
        "colab_type": "code",
        "colab": {}
      },
      "cell_type": "code",
      "source": [
        "# Simple CNN network\n",
        "\n",
        "class ConvNet(torch.nn.Module):\n",
        "    def __init__(self, num_classes=10):\n",
        "        super(ConvNet, self).__init__()\n",
        "        \n",
        "        # First convolution\n",
        "        self.conv1 = torch.nn.Sequential(\n",
        "            torch.nn.Conv2d(in_channels=1, out_channels=16, kernel_size=5, stride=1, padding=2),\n",
        "            torch.nn.BatchNorm2d(16),\n",
        "            torch.nn.ReLU(),\n",
        "            torch.nn.MaxPool2d(kernel_size=2),\n",
        "        )\n",
        "        \n",
        "        # Second convolution\n",
        "        self.conv2 = torch.nn.Sequential(\n",
        "            torch.nn.Conv2d(in_channels=16, out_channels=32, kernel_size=5, stride=1, padding=2),\n",
        "            torch.nn.BatchNorm2d(32),\n",
        "            torch.nn.ReLU(),\n",
        "            torch.nn.MaxPool2d(kernel_size=2),\n",
        "        )\n",
        "        \n",
        "        # Dropout, fc and other classification\n",
        "        self.linear = torch.nn.Sequential(\n",
        "            torch.nn.Dropout(p = 0.5),\n",
        "            torch.nn.Linear(32 * 7 * 7, num_classes)\n",
        "            # torch.nn.Softmax()\n",
        "        )\n",
        "        \n",
        "        \n",
        "    def forward(self, x):\n",
        "        y_pred = self.conv1(x)\n",
        "        y_pred = self.conv2(y_pred)\n",
        "        \n",
        "        y_pred = y_pred.reshape(y_pred.size(0), -1)\n",
        "        y_pred = self.linear(y_pred)\n",
        "        \n",
        "        return y_pred\n",
        "\n"
      ],
      "execution_count": 0,
      "outputs": []
    },
    {
      "metadata": {
        "id": "3KSwknI2AQWn",
        "colab_type": "code",
        "colab": {
          "base_uri": "https://localhost:8080/",
          "height": 34
        },
        "outputId": "aa5c3460-7ae6-4bdc-83d2-1fefdd6a92b1"
      },
      "cell_type": "code",
      "source": [
        "device = torch.device('cuda' if torch.cuda.is_available() else 'cpu')\n",
        "device"
      ],
      "execution_count": 113,
      "outputs": [
        {
          "output_type": "execute_result",
          "data": {
            "text/plain": [
              "device(type='cuda')"
            ]
          },
          "metadata": {
            "tags": []
          },
          "execution_count": 113
        }
      ]
    },
    {
      "metadata": {
        "id": "VCFQN17JAQWr",
        "colab_type": "code",
        "colab": {}
      },
      "cell_type": "code",
      "source": [
        "# Hyperparams\n",
        "learning_rate = 0.001\n",
        "num_epochs = 100\n",
        "batch_size = 300\n",
        "\n",
        "num_classes = 10"
      ],
      "execution_count": 0,
      "outputs": []
    },
    {
      "metadata": {
        "id": "e4SNgS9AAQWt",
        "colab_type": "code",
        "colab": {
          "base_uri": "https://localhost:8080/",
          "height": 334
        },
        "outputId": "7774e6ef-765c-43c8-cbac-30b8c916bfe2"
      },
      "cell_type": "code",
      "source": [
        "# Our model\n",
        "model = ConvNet(num_classes).to(device)\n",
        "model"
      ],
      "execution_count": 115,
      "outputs": [
        {
          "output_type": "execute_result",
          "data": {
            "text/plain": [
              "ConvNet(\n",
              "  (conv1): Sequential(\n",
              "    (0): Conv2d(1, 16, kernel_size=(5, 5), stride=(1, 1), padding=(2, 2))\n",
              "    (1): BatchNorm2d(16, eps=1e-05, momentum=0.1, affine=True, track_running_stats=True)\n",
              "    (2): ReLU()\n",
              "    (3): MaxPool2d(kernel_size=2, stride=2, padding=0, dilation=1, ceil_mode=False)\n",
              "  )\n",
              "  (conv2): Sequential(\n",
              "    (0): Conv2d(16, 32, kernel_size=(5, 5), stride=(1, 1), padding=(2, 2))\n",
              "    (1): BatchNorm2d(32, eps=1e-05, momentum=0.1, affine=True, track_running_stats=True)\n",
              "    (2): ReLU()\n",
              "    (3): MaxPool2d(kernel_size=2, stride=2, padding=0, dilation=1, ceil_mode=False)\n",
              "  )\n",
              "  (linear): Sequential(\n",
              "    (0): Dropout(p=0.5)\n",
              "    (1): Linear(in_features=1568, out_features=10, bias=True)\n",
              "  )\n",
              ")"
            ]
          },
          "metadata": {
            "tags": []
          },
          "execution_count": 115
        }
      ]
    },
    {
      "metadata": {
        "id": "Bmxf6zIPAQWw",
        "colab_type": "code",
        "colab": {}
      },
      "cell_type": "code",
      "source": [
        "# Make DataLoaders from Dataset\n",
        "train_loader = torch.utils.data.DataLoader(dataset=train_dataset,\n",
        "                                           batch_size=batch_size,\n",
        "                                           shuffle=True)\n",
        "test_loader = torch.utils.data.DataLoader(dataset=test_dataset,\n",
        "                                          batch_size=batch_size,\n",
        "                                          shuffle=True)"
      ],
      "execution_count": 0,
      "outputs": []
    },
    {
      "metadata": {
        "_kg_hide-output": true,
        "scrolled": true,
        "id": "tv1GxNOcAQWz",
        "colab_type": "code",
        "colab": {
          "base_uri": "https://localhost:8080/",
          "height": 3537
        },
        "outputId": "70ce5c93-fe5f-4a95-9513-91b40c53a757"
      },
      "cell_type": "code",
      "source": [
        "# Loss and optimizer\n",
        "criterion = torch.nn.CrossEntropyLoss()\n",
        "optimizer = torch.optim.Adam(model.parameters(), lr=learning_rate, weight_decay=1e-5)\n",
        "\n",
        "losses = []\n",
        "\n",
        "best_model_wts = copy.deepcopy(model.state_dict()) \n",
        "best_loss = np.inf\n",
        "\n",
        "total_step = len(train_loader)\n",
        "for epoch in range(num_epochs):\n",
        "    ep_loss = 0\n",
        "    for i, (images, labels) in enumerate(train_loader):\n",
        "        images = images.float().to(device)\n",
        "        labels = labels.to(device)\n",
        "        \n",
        "        # Forward pass\n",
        "        outputs = model(images)\n",
        "        loss = criterion(outputs, labels)\n",
        "        \n",
        "        # Backward and optimize\n",
        "        optimizer.zero_grad()\n",
        "        loss.backward()\n",
        "        optimizer.step()\n",
        "        \n",
        "        if (i + 1) % 100 == 0:\n",
        "            print ('Epoch [{}/{}], Step [{}/{}], Loss: {:.4f}'.format(epoch+1, num_epochs, i+1, total_step, loss.item()))\n",
        "            ep_loss = loss.item()\n",
        "    \n",
        "    if ep_loss < best_loss:\n",
        "        best_loss = ep_loss\n",
        "        best_model_wts = copy.deepcopy(model.state_dict()) \n",
        "        \n",
        "    losses.append(ep_loss)"
      ],
      "execution_count": 117,
      "outputs": [
        {
          "output_type": "stream",
          "text": [
            "Epoch [1/100], Step [100/200], Loss: 0.4917\n",
            "Epoch [1/100], Step [200/200], Loss: 0.3990\n",
            "Epoch [2/100], Step [100/200], Loss: 0.3828\n",
            "Epoch [2/100], Step [200/200], Loss: 0.4071\n",
            "Epoch [3/100], Step [100/200], Loss: 0.3608\n",
            "Epoch [3/100], Step [200/200], Loss: 0.4141\n",
            "Epoch [4/100], Step [100/200], Loss: 0.3066\n",
            "Epoch [4/100], Step [200/200], Loss: 0.3306\n",
            "Epoch [5/100], Step [100/200], Loss: 0.3130\n",
            "Epoch [5/100], Step [200/200], Loss: 0.3024\n",
            "Epoch [6/100], Step [100/200], Loss: 0.2574\n",
            "Epoch [6/100], Step [200/200], Loss: 0.3223\n",
            "Epoch [7/100], Step [100/200], Loss: 0.2305\n",
            "Epoch [7/100], Step [200/200], Loss: 0.2706\n",
            "Epoch [8/100], Step [100/200], Loss: 0.2733\n",
            "Epoch [8/100], Step [200/200], Loss: 0.3260\n",
            "Epoch [9/100], Step [100/200], Loss: 0.2856\n",
            "Epoch [9/100], Step [200/200], Loss: 0.2596\n",
            "Epoch [10/100], Step [100/200], Loss: 0.2545\n",
            "Epoch [10/100], Step [200/200], Loss: 0.2448\n",
            "Epoch [11/100], Step [100/200], Loss: 0.3665\n",
            "Epoch [11/100], Step [200/200], Loss: 0.2538\n",
            "Epoch [12/100], Step [100/200], Loss: 0.2700\n",
            "Epoch [12/100], Step [200/200], Loss: 0.2292\n",
            "Epoch [13/100], Step [100/200], Loss: 0.2004\n",
            "Epoch [13/100], Step [200/200], Loss: 0.2689\n",
            "Epoch [14/100], Step [100/200], Loss: 0.3130\n",
            "Epoch [14/100], Step [200/200], Loss: 0.2543\n",
            "Epoch [15/100], Step [100/200], Loss: 0.2344\n",
            "Epoch [15/100], Step [200/200], Loss: 0.2312\n",
            "Epoch [16/100], Step [100/200], Loss: 0.3077\n",
            "Epoch [16/100], Step [200/200], Loss: 0.2330\n",
            "Epoch [17/100], Step [100/200], Loss: 0.1954\n",
            "Epoch [17/100], Step [200/200], Loss: 0.2825\n",
            "Epoch [18/100], Step [100/200], Loss: 0.2098\n",
            "Epoch [18/100], Step [200/200], Loss: 0.1959\n",
            "Epoch [19/100], Step [100/200], Loss: 0.1930\n",
            "Epoch [19/100], Step [200/200], Loss: 0.1896\n",
            "Epoch [20/100], Step [100/200], Loss: 0.1932\n",
            "Epoch [20/100], Step [200/200], Loss: 0.2086\n",
            "Epoch [21/100], Step [100/200], Loss: 0.1981\n",
            "Epoch [21/100], Step [200/200], Loss: 0.1873\n",
            "Epoch [22/100], Step [100/200], Loss: 0.2138\n",
            "Epoch [22/100], Step [200/200], Loss: 0.1978\n",
            "Epoch [23/100], Step [100/200], Loss: 0.2038\n",
            "Epoch [23/100], Step [200/200], Loss: 0.1656\n",
            "Epoch [24/100], Step [100/200], Loss: 0.2322\n",
            "Epoch [24/100], Step [200/200], Loss: 0.1771\n",
            "Epoch [25/100], Step [100/200], Loss: 0.1848\n",
            "Epoch [25/100], Step [200/200], Loss: 0.2426\n",
            "Epoch [26/100], Step [100/200], Loss: 0.2377\n",
            "Epoch [26/100], Step [200/200], Loss: 0.1661\n",
            "Epoch [27/100], Step [100/200], Loss: 0.1891\n",
            "Epoch [27/100], Step [200/200], Loss: 0.2654\n",
            "Epoch [28/100], Step [100/200], Loss: 0.1986\n",
            "Epoch [28/100], Step [200/200], Loss: 0.2188\n",
            "Epoch [29/100], Step [100/200], Loss: 0.1745\n",
            "Epoch [29/100], Step [200/200], Loss: 0.1461\n",
            "Epoch [30/100], Step [100/200], Loss: 0.1527\n",
            "Epoch [30/100], Step [200/200], Loss: 0.2091\n",
            "Epoch [31/100], Step [100/200], Loss: 0.2203\n",
            "Epoch [31/100], Step [200/200], Loss: 0.2523\n",
            "Epoch [32/100], Step [100/200], Loss: 0.1773\n",
            "Epoch [32/100], Step [200/200], Loss: 0.2636\n",
            "Epoch [33/100], Step [100/200], Loss: 0.2257\n",
            "Epoch [33/100], Step [200/200], Loss: 0.1796\n",
            "Epoch [34/100], Step [100/200], Loss: 0.1982\n",
            "Epoch [34/100], Step [200/200], Loss: 0.2583\n",
            "Epoch [35/100], Step [100/200], Loss: 0.2693\n",
            "Epoch [35/100], Step [200/200], Loss: 0.1895\n",
            "Epoch [36/100], Step [100/200], Loss: 0.2058\n",
            "Epoch [36/100], Step [200/200], Loss: 0.1393\n",
            "Epoch [37/100], Step [100/200], Loss: 0.2281\n",
            "Epoch [37/100], Step [200/200], Loss: 0.2234\n",
            "Epoch [38/100], Step [100/200], Loss: 0.1791\n",
            "Epoch [38/100], Step [200/200], Loss: 0.2056\n",
            "Epoch [39/100], Step [100/200], Loss: 0.2480\n",
            "Epoch [39/100], Step [200/200], Loss: 0.2007\n",
            "Epoch [40/100], Step [100/200], Loss: 0.1810\n",
            "Epoch [40/100], Step [200/200], Loss: 0.1957\n",
            "Epoch [41/100], Step [100/200], Loss: 0.1425\n",
            "Epoch [41/100], Step [200/200], Loss: 0.1874\n",
            "Epoch [42/100], Step [100/200], Loss: 0.1783\n",
            "Epoch [42/100], Step [200/200], Loss: 0.1942\n",
            "Epoch [43/100], Step [100/200], Loss: 0.2463\n",
            "Epoch [43/100], Step [200/200], Loss: 0.1803\n",
            "Epoch [44/100], Step [100/200], Loss: 0.1439\n",
            "Epoch [44/100], Step [200/200], Loss: 0.1680\n",
            "Epoch [45/100], Step [100/200], Loss: 0.1616\n",
            "Epoch [45/100], Step [200/200], Loss: 0.2022\n",
            "Epoch [46/100], Step [100/200], Loss: 0.1550\n",
            "Epoch [46/100], Step [200/200], Loss: 0.1360\n",
            "Epoch [47/100], Step [100/200], Loss: 0.1660\n",
            "Epoch [47/100], Step [200/200], Loss: 0.1993\n",
            "Epoch [48/100], Step [100/200], Loss: 0.1672\n",
            "Epoch [48/100], Step [200/200], Loss: 0.1615\n",
            "Epoch [49/100], Step [100/200], Loss: 0.2350\n",
            "Epoch [49/100], Step [200/200], Loss: 0.1709\n",
            "Epoch [50/100], Step [100/200], Loss: 0.1975\n",
            "Epoch [50/100], Step [200/200], Loss: 0.1925\n",
            "Epoch [51/100], Step [100/200], Loss: 0.1764\n",
            "Epoch [51/100], Step [200/200], Loss: 0.1331\n",
            "Epoch [52/100], Step [100/200], Loss: 0.1578\n",
            "Epoch [52/100], Step [200/200], Loss: 0.1549\n",
            "Epoch [53/100], Step [100/200], Loss: 0.1662\n",
            "Epoch [53/100], Step [200/200], Loss: 0.1276\n",
            "Epoch [54/100], Step [100/200], Loss: 0.2319\n",
            "Epoch [54/100], Step [200/200], Loss: 0.1894\n",
            "Epoch [55/100], Step [100/200], Loss: 0.2251\n",
            "Epoch [55/100], Step [200/200], Loss: 0.1985\n",
            "Epoch [56/100], Step [100/200], Loss: 0.1635\n",
            "Epoch [56/100], Step [200/200], Loss: 0.1763\n",
            "Epoch [57/100], Step [100/200], Loss: 0.1530\n",
            "Epoch [57/100], Step [200/200], Loss: 0.1938\n",
            "Epoch [58/100], Step [100/200], Loss: 0.1793\n",
            "Epoch [58/100], Step [200/200], Loss: 0.1453\n",
            "Epoch [59/100], Step [100/200], Loss: 0.1512\n",
            "Epoch [59/100], Step [200/200], Loss: 0.1795\n",
            "Epoch [60/100], Step [100/200], Loss: 0.1568\n",
            "Epoch [60/100], Step [200/200], Loss: 0.1710\n",
            "Epoch [61/100], Step [100/200], Loss: 0.1816\n",
            "Epoch [61/100], Step [200/200], Loss: 0.1692\n",
            "Epoch [62/100], Step [100/200], Loss: 0.1550\n",
            "Epoch [62/100], Step [200/200], Loss: 0.1590\n",
            "Epoch [63/100], Step [100/200], Loss: 0.2025\n",
            "Epoch [63/100], Step [200/200], Loss: 0.1742\n",
            "Epoch [64/100], Step [100/200], Loss: 0.1479\n",
            "Epoch [64/100], Step [200/200], Loss: 0.1785\n",
            "Epoch [65/100], Step [100/200], Loss: 0.1957\n",
            "Epoch [65/100], Step [200/200], Loss: 0.1868\n",
            "Epoch [66/100], Step [100/200], Loss: 0.1971\n",
            "Epoch [66/100], Step [200/200], Loss: 0.1421\n",
            "Epoch [67/100], Step [100/200], Loss: 0.1525\n",
            "Epoch [67/100], Step [200/200], Loss: 0.1385\n",
            "Epoch [68/100], Step [100/200], Loss: 0.1410\n",
            "Epoch [68/100], Step [200/200], Loss: 0.1040\n",
            "Epoch [69/100], Step [100/200], Loss: 0.1784\n",
            "Epoch [69/100], Step [200/200], Loss: 0.1545\n",
            "Epoch [70/100], Step [100/200], Loss: 0.2218\n",
            "Epoch [70/100], Step [200/200], Loss: 0.1453\n",
            "Epoch [71/100], Step [100/200], Loss: 0.1939\n",
            "Epoch [71/100], Step [200/200], Loss: 0.1625\n",
            "Epoch [72/100], Step [100/200], Loss: 0.1133\n",
            "Epoch [72/100], Step [200/200], Loss: 0.1983\n",
            "Epoch [73/100], Step [100/200], Loss: 0.1422\n",
            "Epoch [73/100], Step [200/200], Loss: 0.1445\n",
            "Epoch [74/100], Step [100/200], Loss: 0.1680\n",
            "Epoch [74/100], Step [200/200], Loss: 0.2184\n",
            "Epoch [75/100], Step [100/200], Loss: 0.1686\n",
            "Epoch [75/100], Step [200/200], Loss: 0.1495\n",
            "Epoch [76/100], Step [100/200], Loss: 0.1204\n",
            "Epoch [76/100], Step [200/200], Loss: 0.1571\n",
            "Epoch [77/100], Step [100/200], Loss: 0.2246\n",
            "Epoch [77/100], Step [200/200], Loss: 0.1498\n",
            "Epoch [78/100], Step [100/200], Loss: 0.1186\n",
            "Epoch [78/100], Step [200/200], Loss: 0.1263\n",
            "Epoch [79/100], Step [100/200], Loss: 0.1342\n",
            "Epoch [79/100], Step [200/200], Loss: 0.1136\n",
            "Epoch [80/100], Step [100/200], Loss: 0.1576\n",
            "Epoch [80/100], Step [200/200], Loss: 0.1641\n",
            "Epoch [81/100], Step [100/200], Loss: 0.1744\n",
            "Epoch [81/100], Step [200/200], Loss: 0.2024\n",
            "Epoch [82/100], Step [100/200], Loss: 0.1497\n",
            "Epoch [82/100], Step [200/200], Loss: 0.1612\n",
            "Epoch [83/100], Step [100/200], Loss: 0.1425\n",
            "Epoch [83/100], Step [200/200], Loss: 0.1861\n",
            "Epoch [84/100], Step [100/200], Loss: 0.1548\n",
            "Epoch [84/100], Step [200/200], Loss: 0.1248\n",
            "Epoch [85/100], Step [100/200], Loss: 0.1209\n",
            "Epoch [85/100], Step [200/200], Loss: 0.1238\n",
            "Epoch [86/100], Step [100/200], Loss: 0.1509\n",
            "Epoch [86/100], Step [200/200], Loss: 0.1401\n",
            "Epoch [87/100], Step [100/200], Loss: 0.1299\n",
            "Epoch [87/100], Step [200/200], Loss: 0.1628\n",
            "Epoch [88/100], Step [100/200], Loss: 0.1155\n",
            "Epoch [88/100], Step [200/200], Loss: 0.2466\n",
            "Epoch [89/100], Step [100/200], Loss: 0.1562\n",
            "Epoch [89/100], Step [200/200], Loss: 0.1676\n",
            "Epoch [90/100], Step [100/200], Loss: 0.1856\n",
            "Epoch [90/100], Step [200/200], Loss: 0.1785\n",
            "Epoch [91/100], Step [100/200], Loss: 0.2174\n",
            "Epoch [91/100], Step [200/200], Loss: 0.1264\n",
            "Epoch [92/100], Step [100/200], Loss: 0.1121\n",
            "Epoch [92/100], Step [200/200], Loss: 0.1835\n",
            "Epoch [93/100], Step [100/200], Loss: 0.1438\n",
            "Epoch [93/100], Step [200/200], Loss: 0.1766\n",
            "Epoch [94/100], Step [100/200], Loss: 0.1330\n",
            "Epoch [94/100], Step [200/200], Loss: 0.1517\n",
            "Epoch [95/100], Step [100/200], Loss: 0.1928\n",
            "Epoch [95/100], Step [200/200], Loss: 0.1504\n",
            "Epoch [96/100], Step [100/200], Loss: 0.1628\n",
            "Epoch [96/100], Step [200/200], Loss: 0.1219\n",
            "Epoch [97/100], Step [100/200], Loss: 0.1120\n",
            "Epoch [97/100], Step [200/200], Loss: 0.1175\n",
            "Epoch [98/100], Step [100/200], Loss: 0.1657\n",
            "Epoch [98/100], Step [200/200], Loss: 0.1623\n",
            "Epoch [99/100], Step [100/200], Loss: 0.1454\n",
            "Epoch [99/100], Step [200/200], Loss: 0.1590\n",
            "Epoch [100/100], Step [100/200], Loss: 0.1306\n",
            "Epoch [100/100], Step [200/200], Loss: 0.1398\n"
          ],
          "name": "stdout"
        }
      ]
    },
    {
      "metadata": {
        "id": "pqMbZOlFAQW2",
        "colab_type": "code",
        "colab": {
          "base_uri": "https://localhost:8080/",
          "height": 365
        },
        "outputId": "e6ce17c9-88da-4b07-fca7-8e2f6365cae8"
      },
      "cell_type": "code",
      "source": [
        "plt.plot(losses)"
      ],
      "execution_count": 118,
      "outputs": [
        {
          "output_type": "execute_result",
          "data": {
            "text/plain": [
              "[<matplotlib.lines.Line2D at 0x7fd43b281cc0>]"
            ]
          },
          "metadata": {
            "tags": []
          },
          "execution_count": 118
        },
        {
          "output_type": "display_data",
          "data": {
            "image/png": "[encoded data removed]",
            "text/plain": [
              "<Figure size 576x396 with 1 Axes>"
            ]
          },
          "metadata": {
            "tags": []
          }
        }
      ]
    },
    {
      "metadata": {
        "id": "mrGRdbLkF7yA",
        "colab_type": "text"
      },
      "cell_type": "markdown",
      "source": [
        "# **Если честно, то я понятия не имею, почему accuracy такие странные**"
      ]
    },
    {
      "metadata": {
        "id": "9zz9EX1rAQW5",
        "colab_type": "code",
        "colab": {
          "base_uri": "https://localhost:8080/",
          "height": 34
        },
        "outputId": "b22a2ff5-403e-4922-fc92-44529868db2e"
      },
      "cell_type": "code",
      "source": [
        "# Test the model\n",
        "model.load_state_dict(best_model_wts)\n",
        "model.eval()  # eval mode (batchnorm uses moving mean/variance instead of mini-batch mean/variance)\n",
        "with torch.no_grad():\n",
        "    correct = 0\n",
        "    total = 0\n",
        "    for images, labels in test_loader:\n",
        "        images = images.float().to(device)\n",
        "        labels = labels.to(device)\n",
        "        outputs = model(images)\n",
        "        _, predicted = torch.max(outputs.data, 1)\n",
        "        total += labels.size(0)\n",
        "        correct += (predicted == labels).sum().item()\n",
        "\n",
        "    print('Test Accuracy of the model on the 10000 test images: {} %'.format(100 * correct / total))\n",
        "\n",
        "# Save the model checkpoint\n",
        "torch.save(model.state_dict(), 'model.ckpt')"
      ],
      "execution_count": 119,
      "outputs": [
        {
          "output_type": "stream",
          "text": [
            "Test Accuracy of the model on the 10000 test images: 10.14 %\n"
          ],
          "name": "stdout"
        }
      ]
    },
    {
      "metadata": {
        "id": "-tHo_po9AQW9",
        "colab_type": "code",
        "colab": {
          "base_uri": "https://localhost:8080/",
          "height": 193
        },
        "outputId": "df35964f-3e6e-4ff0-a11b-c77e6c393382"
      },
      "cell_type": "code",
      "source": [
        "class_correct = list(0. for i in range(10))\n",
        "class_total = list(0. for i in range(10))\n",
        "\n",
        "classes = ['T-shirt/top', 'Trouser', 'Pullover', 'Dress', 'Coat', \n",
        "           'Sandal', 'Shirt', 'Sneaker','Bag', 'Ankle boot']\n",
        "\n",
        "with torch.no_grad():\n",
        "    for i, (images, labels) in enumerate(test_loader):\n",
        "        images = images.float().to(device)\n",
        "        labels = labels.to(device)\n",
        "        \n",
        "        outputs = model(images)\n",
        "        _, predicted = torch.max(outputs.data, 1)\n",
        "        \n",
        "        c = (predicted == labels).squeeze()\n",
        "        for i in range(len(outputs)):\n",
        "            label = labels[i]\n",
        "            class_correct[label] += c[i].item()\n",
        "            class_total[label] += 1\n",
        "\n",
        "for i in range(10):\n",
        "    if class_total[i] == 0:\n",
        "        class_total[i] = 1\n",
        "    print('Accuracy of %5s : %2d %%' % (classes[i], 100 * class_correct[i] / class_total[i]))"
      ],
      "execution_count": 120,
      "outputs": [
        {
          "output_type": "stream",
          "text": [
            "Accuracy of T-shirt/top : 10 %\n",
            "Accuracy of Trouser :  0 %\n",
            "Accuracy of Pullover :  0 %\n",
            "Accuracy of Dress :  0 %\n",
            "Accuracy of  Coat :  0 %\n",
            "Accuracy of Sandal :  0 %\n",
            "Accuracy of Shirt :  0 %\n",
            "Accuracy of Sneaker :  0 %\n",
            "Accuracy of   Bag :  0 %\n",
            "Accuracy of Ankle boot :  0 %\n"
          ],
          "name": "stdout"
        }
      ]
    },
    {
      "metadata": {
        "id": "nPu6qZTYAQXD",
        "colab_type": "code",
        "colab": {}
      },
      "cell_type": "code",
      "source": [
        "inputs = torch.FloatTensor(test_dataset.X)\n",
        "outputs = model(inputs.to(device))\n",
        "# pred = model(torch.FloatTensor(test_loader.dataset.X[0]).to(device)).to('cpu')"
      ],
      "execution_count": 0,
      "outputs": []
    },
    {
      "metadata": {
        "id": "MPTFAme9AQXG",
        "colab_type": "code",
        "colab": {}
      },
      "cell_type": "code",
      "source": [
        "_, predicted = torch.max(outputs, 1)"
      ],
      "execution_count": 0,
      "outputs": []
    },
    {
      "metadata": {
        "id": "cpP78d-iAQXI",
        "colab_type": "code",
        "colab": {
          "base_uri": "https://localhost:8080/",
          "height": 195
        },
        "outputId": "48911091-e63c-4a3f-c308-ac70fff570db"
      },
      "cell_type": "code",
      "source": [
        "# Write answers\n",
        "answer_df = pd.DataFrame(data=predicted.cpu().numpy(), columns=['Category'])\n",
        "answer_df.head()"
      ],
      "execution_count": 123,
      "outputs": [
        {
          "output_type": "execute_result",
          "data": {
            "text/html": [
              "<div>\n",
              "<style scoped>\n",
              "    .dataframe tbody tr th:only-of-type {\n",
              "        vertical-align: middle;\n",
              "    }\n",
              "\n",
              "    .dataframe tbody tr th {\n",
              "        vertical-align: top;\n",
              "    }\n",
              "\n",
              "    .dataframe thead th {\n",
              "        text-align: right;\n",
              "    }\n",
              "</style>\n",
              "<table border=\"1\" class=\"dataframe\">\n",
              "  <thead>\n",
              "    <tr style=\"text-align: right;\">\n",
              "      <th></th>\n",
              "      <th>Category</th>\n",
              "    </tr>\n",
              "  </thead>\n",
              "  <tbody>\n",
              "    <tr>\n",
              "      <th>0</th>\n",
              "      <td>0</td>\n",
              "    </tr>\n",
              "    <tr>\n",
              "      <th>1</th>\n",
              "      <td>1</td>\n",
              "    </tr>\n",
              "    <tr>\n",
              "      <th>2</th>\n",
              "      <td>2</td>\n",
              "    </tr>\n",
              "    <tr>\n",
              "      <th>3</th>\n",
              "      <td>2</td>\n",
              "    </tr>\n",
              "    <tr>\n",
              "      <th>4</th>\n",
              "      <td>3</td>\n",
              "    </tr>\n",
              "  </tbody>\n",
              "</table>\n",
              "</div>"
            ],
            "text/plain": [
              "   Category\n",
              "0         0\n",
              "1         1\n",
              "2         2\n",
              "3         2\n",
              "4         3"
            ]
          },
          "metadata": {
            "tags": []
          },
          "execution_count": 123
        }
      ]
    },
    {
      "metadata": {
        "id": "3VSWOuDfAQXL",
        "colab_type": "code",
        "colab": {}
      },
      "cell_type": "code",
      "source": [
        "answer_df['Id'] = answer_df.index"
      ],
      "execution_count": 0,
      "outputs": []
    },
    {
      "metadata": {
        "id": "b3MFRB3pAQXN",
        "colab_type": "code",
        "colab": {}
      },
      "cell_type": "code",
      "source": [
        "answer_df.to_csv('./fashion_mnist_result.csv', index=False)"
      ],
      "execution_count": 0,
      "outputs": []
    }
  ]
}